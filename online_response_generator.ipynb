{
 "cells": [
  {
   "cell_type": "code",
   "execution_count": 14,
   "id": "14c2bba4",
   "metadata": {
    "ExecuteTime": {
     "end_time": "2021-08-27T06:37:12.348177Z",
     "start_time": "2021-08-27T06:37:12.338931Z"
    }
   },
   "outputs": [],
   "source": [
    "from pathlib import Path\n",
    "import tarfile\n",
    "\n",
    "\n",
    "import matplotlib.pyplot as plt\n",
    "%matplotlib notebook\n",
    "\n",
    "from threeML import download_GBM_trigger_data, download_GBM_daily_data\n",
    "\n",
    "import gbmgeometry\n",
    "from gbmgeometry.io.data_download import download_posthist, download_trigdat, get_official_location\n",
    "\n",
    "gbm_detectors = [f\"n{x}\" for x in range(10)]\n",
    "gbm_detectors.extend(['na','nb','b0','b1'])\n",
    "\n",
    "\n",
    "import gbm_drm_gen\n",
    "\n",
    "\n"
   ]
  },
  {
   "cell_type": "code",
   "execution_count": 59,
   "id": "0a2e09a1",
   "metadata": {
    "ExecuteTime": {
     "end_time": "2021-08-27T05:40:44.414656Z",
     "start_time": "2021-08-27T05:40:44.409896Z"
    }
   },
   "outputs": [],
   "source": []
  },
  {
   "cell_type": "markdown",
   "id": "b6eec91c",
   "metadata": {},
   "source": [
    "# Setup the variables"
   ]
  },
  {
   "cell_type": "markdown",
   "id": "fdf359b3",
   "metadata": {},
   "source": [
    "## Type of data"
   ]
  },
  {
   "cell_type": "markdown",
   "id": "5e75b2ea",
   "metadata": {},
   "source": [
    "### Trigger data"
   ]
  },
  {
   "cell_type": "code",
   "execution_count": 2,
   "id": "747a099a",
   "metadata": {
    "ExecuteTime": {
     "end_time": "2021-08-27T06:16:50.472632Z",
     "start_time": "2021-08-27T06:16:50.470317Z"
    }
   },
   "outputs": [],
   "source": [
    "grb_trigger_number = \"bn080916009\"\n",
    "\n",
    "# do not alter\n",
    "using_daily_data = False"
   ]
  },
  {
   "cell_type": "code",
   "execution_count": 10,
   "id": "a5d675fb",
   "metadata": {
    "ExecuteTime": {
     "end_time": "2021-08-27T06:20:09.205402Z",
     "start_time": "2021-08-27T06:19:42.113264Z"
    }
   },
   "outputs": [
    {
     "name": "stdout",
     "output_type": "stream",
     "text": [
      "The data have been downloaded to ./trigdat_bn080916009_v02.h5\n",
      "[\u001b[32mINFO    \u001b[0m]\u001b[32m file glg_cspec_n0_bn080916009_v01.pha is already downloaded!\u001b[0m\n"
     ]
    },
    {
     "data": {
      "application/vnd.jupyter.widget-view+json": {
       "model_id": "97cb41485cf74c94b61706300b961b10",
       "version_major": 2,
       "version_minor": 0
      },
      "text/plain": [
       "Downloading glg_cspec_n0_bn080916009_v07.rsp:   0%|          | 0.00/95.6k [00:00<?, ?B/s]"
      ]
     },
     "metadata": {},
     "output_type": "display_data"
    },
    {
     "name": "stdout",
     "output_type": "stream",
     "text": [
      "[\u001b[32mINFO    \u001b[0m]\u001b[32m file glg_cspec_n1_bn080916009_v01.pha is already downloaded!\u001b[0m\n"
     ]
    },
    {
     "data": {
      "application/vnd.jupyter.widget-view+json": {
       "model_id": "064a1f73d0684d45825866c9ae2577d4",
       "version_major": 2,
       "version_minor": 0
      },
      "text/plain": [
       "Downloading glg_cspec_n1_bn080916009_v07.rsp:   0%|          | 0.00/95.6k [00:00<?, ?B/s]"
      ]
     },
     "metadata": {},
     "output_type": "display_data"
    },
    {
     "name": "stdout",
     "output_type": "stream",
     "text": [
      "[\u001b[32mINFO    \u001b[0m]\u001b[32m file glg_cspec_n2_bn080916009_v01.pha is already downloaded!\u001b[0m\n"
     ]
    },
    {
     "data": {
      "application/vnd.jupyter.widget-view+json": {
       "model_id": "3a02f826c84347d982082e66f33f9468",
       "version_major": 2,
       "version_minor": 0
      },
      "text/plain": [
       "Downloading glg_cspec_n2_bn080916009_v07.rsp:   0%|          | 0.00/92.8k [00:00<?, ?B/s]"
      ]
     },
     "metadata": {},
     "output_type": "display_data"
    },
    {
     "name": "stdout",
     "output_type": "stream",
     "text": [
      "[\u001b[32mINFO    \u001b[0m]\u001b[32m file glg_cspec_n3_bn080916009_v01.pha is already downloaded!\u001b[0m\n"
     ]
    },
    {
     "data": {
      "application/vnd.jupyter.widget-view+json": {
       "model_id": "ff933ef35d5c43efb1ab7a41150bfcbd",
       "version_major": 2,
       "version_minor": 0
      },
      "text/plain": [
       "Downloading glg_cspec_n3_bn080916009_v00.rsp2:   0%|          | 0.00/259k [00:00<?, ?B/s]"
      ]
     },
     "metadata": {},
     "output_type": "display_data"
    },
    {
     "name": "stdout",
     "output_type": "stream",
     "text": [
      "[\u001b[32mINFO    \u001b[0m]\u001b[32m file glg_cspec_n4_bn080916009_v01.pha is already downloaded!\u001b[0m\n"
     ]
    },
    {
     "data": {
      "application/vnd.jupyter.widget-view+json": {
       "model_id": "9a125b2f91c941999af17705621171a2",
       "version_major": 2,
       "version_minor": 0
      },
      "text/plain": [
       "Downloading glg_cspec_n4_bn080916009_v00.rsp2:   0%|          | 0.00/259k [00:00<?, ?B/s]"
      ]
     },
     "metadata": {},
     "output_type": "display_data"
    },
    {
     "name": "stdout",
     "output_type": "stream",
     "text": [
      "[\u001b[32mINFO    \u001b[0m]\u001b[32m file glg_cspec_n5_bn080916009_v01.pha is already downloaded!\u001b[0m\n"
     ]
    },
    {
     "data": {
      "application/vnd.jupyter.widget-view+json": {
       "model_id": "a8cd9b4fa3094448b09946d08561b1af",
       "version_major": 2,
       "version_minor": 0
      },
      "text/plain": [
       "Downloading glg_cspec_n5_bn080916009_v07.rsp:   0%|          | 0.00/95.6k [00:00<?, ?B/s]"
      ]
     },
     "metadata": {},
     "output_type": "display_data"
    },
    {
     "name": "stdout",
     "output_type": "stream",
     "text": [
      "[\u001b[32mINFO    \u001b[0m]\u001b[32m file glg_cspec_n6_bn080916009_v01.pha is already downloaded!\u001b[0m\n"
     ]
    },
    {
     "data": {
      "application/vnd.jupyter.widget-view+json": {
       "model_id": "5b1c966fea60423e8dfc4508317abdd5",
       "version_major": 2,
       "version_minor": 0
      },
      "text/plain": [
       "Downloading glg_cspec_n6_bn080916009_v00.rsp2:   0%|          | 0.00/259k [00:00<?, ?B/s]"
      ]
     },
     "metadata": {},
     "output_type": "display_data"
    },
    {
     "name": "stdout",
     "output_type": "stream",
     "text": [
      "[\u001b[32mINFO    \u001b[0m]\u001b[32m file glg_cspec_n7_bn080916009_v01.pha is already downloaded!\u001b[0m\n"
     ]
    },
    {
     "data": {
      "application/vnd.jupyter.widget-view+json": {
       "model_id": "d6a842eb77314942bb6a6bbfd98882d1",
       "version_major": 2,
       "version_minor": 0
      },
      "text/plain": [
       "Downloading glg_cspec_n7_bn080916009_v00.rsp2:   0%|          | 0.00/259k [00:00<?, ?B/s]"
      ]
     },
     "metadata": {},
     "output_type": "display_data"
    },
    {
     "name": "stdout",
     "output_type": "stream",
     "text": [
      "[\u001b[32mINFO    \u001b[0m]\u001b[32m file glg_cspec_n8_bn080916009_v01.pha is already downloaded!\u001b[0m\n"
     ]
    },
    {
     "data": {
      "application/vnd.jupyter.widget-view+json": {
       "model_id": "983a7bb4d8944d0c9fd6e90e8d8c3d3f",
       "version_major": 2,
       "version_minor": 0
      },
      "text/plain": [
       "Downloading glg_cspec_n8_bn080916009_v07.rsp:   0%|          | 0.00/95.6k [00:00<?, ?B/s]"
      ]
     },
     "metadata": {},
     "output_type": "display_data"
    },
    {
     "name": "stdout",
     "output_type": "stream",
     "text": [
      "[\u001b[32mINFO    \u001b[0m]\u001b[32m file glg_cspec_n9_bn080916009_v01.pha is already downloaded!\u001b[0m\n"
     ]
    },
    {
     "data": {
      "application/vnd.jupyter.widget-view+json": {
       "model_id": "601aaad1bf474841b986132b7646afb9",
       "version_major": 2,
       "version_minor": 0
      },
      "text/plain": [
       "Downloading glg_cspec_n9_bn080916009_v07.rsp:   0%|          | 0.00/92.8k [00:00<?, ?B/s]"
      ]
     },
     "metadata": {},
     "output_type": "display_data"
    },
    {
     "name": "stdout",
     "output_type": "stream",
     "text": [
      "[\u001b[32mINFO    \u001b[0m]\u001b[32m file glg_cspec_na_bn080916009_v01.pha is already downloaded!\u001b[0m\n"
     ]
    },
    {
     "data": {
      "application/vnd.jupyter.widget-view+json": {
       "model_id": "c88c177a6bc84c25a431e3cb179aed15",
       "version_major": 2,
       "version_minor": 0
      },
      "text/plain": [
       "Downloading glg_cspec_na_bn080916009_v07.rsp:   0%|          | 0.00/92.8k [00:00<?, ?B/s]"
      ]
     },
     "metadata": {},
     "output_type": "display_data"
    },
    {
     "name": "stdout",
     "output_type": "stream",
     "text": [
      "[\u001b[32mINFO    \u001b[0m]\u001b[32m file glg_cspec_nb_bn080916009_v01.pha is already downloaded!\u001b[0m\n"
     ]
    },
    {
     "data": {
      "application/vnd.jupyter.widget-view+json": {
       "model_id": "9d1a1ce5d9d64bd3865254b99b019ce7",
       "version_major": 2,
       "version_minor": 0
      },
      "text/plain": [
       "Downloading glg_cspec_nb_bn080916009_v07.rsp:   0%|          | 0.00/92.8k [00:00<?, ?B/s]"
      ]
     },
     "metadata": {},
     "output_type": "display_data"
    },
    {
     "name": "stdout",
     "output_type": "stream",
     "text": [
      "[\u001b[32mINFO    \u001b[0m]\u001b[32m file glg_cspec_b0_bn080916009_v01.pha is already downloaded!\u001b[0m\n"
     ]
    },
    {
     "data": {
      "application/vnd.jupyter.widget-view+json": {
       "model_id": "a13450fd35fc40938ef3b554ce80c57a",
       "version_major": 2,
       "version_minor": 0
      },
      "text/plain": [
       "Downloading glg_cspec_b0_bn080916009_v00.rsp2:   0%|          | 0.00/259k [00:00<?, ?B/s]"
      ]
     },
     "metadata": {},
     "output_type": "display_data"
    },
    {
     "name": "stdout",
     "output_type": "stream",
     "text": [
      "[\u001b[32mINFO    \u001b[0m]\u001b[32m file glg_cspec_b1_bn080916009_v01.pha is already downloaded!\u001b[0m\n"
     ]
    },
    {
     "data": {
      "application/vnd.jupyter.widget-view+json": {
       "model_id": "9442f981347e43308eb2fce8ceff1f66",
       "version_major": 2,
       "version_minor": 0
      },
      "text/plain": [
       "Downloading glg_cspec_b1_bn080916009_v07.rsp:   0%|          | 0.00/95.6k [00:00<?, ?B/s]"
      ]
     },
     "metadata": {},
     "output_type": "display_data"
    }
   ],
   "source": [
    "download_trigdat(grb_trigger_number)\n",
    "spacecraft_file = list(Path('.').glob(f'trigdat_{grb_trigger_number}_v*.h5'))[0]\n",
    "\n",
    "gbm_data = download_GBM_trigger_data(grb_trigger_number, cspec_only=True)\n",
    "\n",
    "for k,v in gbm_data.items():\n",
    "    \n",
    "    Path(v['rsp']).unlink()\n",
    "    \n",
    "    v.pop('rsp')"
   ]
  },
  {
   "cell_type": "markdown",
   "id": "92d1a3d6",
   "metadata": {},
   "source": [
    "### Daily data"
   ]
  },
  {
   "cell_type": "code",
   "execution_count": 2,
   "id": "974337b2",
   "metadata": {
    "ExecuteTime": {
     "end_time": "2021-08-27T06:22:24.886001Z",
     "start_time": "2021-08-27T06:22:24.883281Z"
    }
   },
   "outputs": [],
   "source": [
    "#year\n",
    "year = '20'\n",
    "month = '01'\n",
    "day = '16'\n",
    "\n",
    "# MET to zero the daily data\n",
    "# Use None if you do not want to zero\n",
    "T0 = 600835545.0\n",
    "\n",
    "using_daily_data = True"
   ]
  },
  {
   "cell_type": "code",
   "execution_count": 3,
   "id": "4e165396",
   "metadata": {
    "ExecuteTime": {
     "end_time": "2021-08-27T06:24:24.394280Z",
     "start_time": "2021-08-27T06:22:25.525723Z"
    }
   },
   "outputs": [
    {
     "name": "stdout",
     "output_type": "stream",
     "text": [
      "The data have been downloaded to ./poshist_200116.h5\n"
     ]
    },
    {
     "data": {
      "application/vnd.jupyter.widget-view+json": {
       "model_id": "88eba683c251417aa6a6cc638a45d50e",
       "version_major": 2,
       "version_minor": 0
      },
      "text/plain": [
       "Downloading glg_cspec_n0_200116_v00.pha:   0%|          | 0.00/5.17M [00:00<?, ?B/s]"
      ]
     },
     "metadata": {},
     "output_type": "display_data"
    },
    {
     "data": {
      "application/vnd.jupyter.widget-view+json": {
       "model_id": "01fcf21392e04c5f83a1e07d4e438c81",
       "version_major": 2,
       "version_minor": 0
      },
      "text/plain": [
       "Downloading glg_cspec_n1_200116_v00.pha:   0%|          | 0.00/5.17M [00:00<?, ?B/s]"
      ]
     },
     "metadata": {},
     "output_type": "display_data"
    },
    {
     "data": {
      "application/vnd.jupyter.widget-view+json": {
       "model_id": "62fa0ba21d1b47aab0565eca5815a0a5",
       "version_major": 2,
       "version_minor": 0
      },
      "text/plain": [
       "Downloading glg_cspec_n2_200116_v00.pha:   0%|          | 0.00/5.17M [00:00<?, ?B/s]"
      ]
     },
     "metadata": {},
     "output_type": "display_data"
    },
    {
     "data": {
      "application/vnd.jupyter.widget-view+json": {
       "model_id": "790539557738425abe449e36a8417c18",
       "version_major": 2,
       "version_minor": 0
      },
      "text/plain": [
       "Downloading glg_cspec_n3_200116_v00.pha:   0%|          | 0.00/5.17M [00:00<?, ?B/s]"
      ]
     },
     "metadata": {},
     "output_type": "display_data"
    },
    {
     "data": {
      "application/vnd.jupyter.widget-view+json": {
       "model_id": "182a13778fdd4178b2de1a56af9d8633",
       "version_major": 2,
       "version_minor": 0
      },
      "text/plain": [
       "Downloading glg_cspec_n4_200116_v00.pha:   0%|          | 0.00/5.17M [00:00<?, ?B/s]"
      ]
     },
     "metadata": {},
     "output_type": "display_data"
    },
    {
     "data": {
      "application/vnd.jupyter.widget-view+json": {
       "model_id": "c4b90e9060194c5b8cef5de057717ec9",
       "version_major": 2,
       "version_minor": 0
      },
      "text/plain": [
       "Downloading glg_cspec_n5_200116_v00.pha:   0%|          | 0.00/5.17M [00:00<?, ?B/s]"
      ]
     },
     "metadata": {},
     "output_type": "display_data"
    },
    {
     "data": {
      "application/vnd.jupyter.widget-view+json": {
       "model_id": "603c03e6b7db4f9ab76fb7af4440e26b",
       "version_major": 2,
       "version_minor": 0
      },
      "text/plain": [
       "Downloading glg_cspec_n6_200116_v00.pha:   0%|          | 0.00/5.17M [00:00<?, ?B/s]"
      ]
     },
     "metadata": {},
     "output_type": "display_data"
    },
    {
     "data": {
      "application/vnd.jupyter.widget-view+json": {
       "model_id": "48dc1e99ed8447c385aa3bfef7bb2a2e",
       "version_major": 2,
       "version_minor": 0
      },
      "text/plain": [
       "Downloading glg_cspec_n7_200116_v00.pha:   0%|          | 0.00/5.17M [00:00<?, ?B/s]"
      ]
     },
     "metadata": {},
     "output_type": "display_data"
    },
    {
     "data": {
      "application/vnd.jupyter.widget-view+json": {
       "model_id": "db655217486841aeb111cfc0405ff30a",
       "version_major": 2,
       "version_minor": 0
      },
      "text/plain": [
       "Downloading glg_cspec_n8_200116_v00.pha:   0%|          | 0.00/5.17M [00:00<?, ?B/s]"
      ]
     },
     "metadata": {},
     "output_type": "display_data"
    },
    {
     "data": {
      "application/vnd.jupyter.widget-view+json": {
       "model_id": "dd8ac8f485c14580903a612004a6f997",
       "version_major": 2,
       "version_minor": 0
      },
      "text/plain": [
       "Downloading glg_cspec_n9_200116_v00.pha:   0%|          | 0.00/5.17M [00:00<?, ?B/s]"
      ]
     },
     "metadata": {},
     "output_type": "display_data"
    },
    {
     "data": {
      "application/vnd.jupyter.widget-view+json": {
       "model_id": "0d7dae6e3af04acca828b0c8a0ab59a2",
       "version_major": 2,
       "version_minor": 0
      },
      "text/plain": [
       "Downloading glg_cspec_na_200116_v00.pha:   0%|          | 0.00/5.17M [00:00<?, ?B/s]"
      ]
     },
     "metadata": {},
     "output_type": "display_data"
    },
    {
     "data": {
      "application/vnd.jupyter.widget-view+json": {
       "model_id": "76a0c929e1fe4badad0a4a27196346c9",
       "version_major": 2,
       "version_minor": 0
      },
      "text/plain": [
       "Downloading glg_cspec_nb_200116_v00.pha:   0%|          | 0.00/5.17M [00:00<?, ?B/s]"
      ]
     },
     "metadata": {},
     "output_type": "display_data"
    },
    {
     "data": {
      "application/vnd.jupyter.widget-view+json": {
       "model_id": "eeec8d2d174d46aeb25aeac1814cde5c",
       "version_major": 2,
       "version_minor": 0
      },
      "text/plain": [
       "Downloading glg_cspec_b0_200116_v00.pha:   0%|          | 0.00/5.17M [00:00<?, ?B/s]"
      ]
     },
     "metadata": {},
     "output_type": "display_data"
    },
    {
     "data": {
      "application/vnd.jupyter.widget-view+json": {
       "model_id": "0222a5386c5e4c648996d8f598dbf3bb",
       "version_major": 2,
       "version_minor": 0
      },
      "text/plain": [
       "Downloading glg_cspec_b1_200116_v00.pha:   0%|          | 0.00/5.17M [00:00<?, ?B/s]"
      ]
     },
     "metadata": {},
     "output_type": "display_data"
    }
   ],
   "source": [
    "download_posthist(year, month, day)\n",
    "spacecraft_file = f\"poshist_{year}{month}{day}.h5\"\n",
    "\n",
    "\n",
    "gbm_data = download_GBM_daily_data(year, month, day, cspec_only=True)"
   ]
  },
  {
   "cell_type": "markdown",
   "id": "c1ee9046",
   "metadata": {},
   "source": [
    "## Sky location"
   ]
  },
  {
   "cell_type": "markdown",
   "id": "c56eafc8",
   "metadata": {},
   "source": [
    "### Official location"
   ]
  },
  {
   "cell_type": "code",
   "execution_count": 56,
   "id": "7c3a8aca",
   "metadata": {
    "ExecuteTime": {
     "end_time": "2021-08-27T05:37:52.714466Z",
     "start_time": "2021-08-27T05:37:41.066153Z"
    }
   },
   "outputs": [
    {
     "name": "stdout",
     "output_type": "stream",
     "text": [
      "119.8 -56.6 0.0\n"
     ]
    }
   ],
   "source": [
    "ra, dec, loc_err = get_official_location(grb_trigger_number)\n",
    "print(ra, dec, loc_err)"
   ]
  },
  {
   "cell_type": "markdown",
   "id": "4250af39",
   "metadata": {},
   "source": [
    "### Custom location"
   ]
  },
  {
   "cell_type": "code",
   "execution_count": 4,
   "id": "39faffb4",
   "metadata": {
    "ExecuteTime": {
     "end_time": "2021-08-27T06:24:24.399358Z",
     "start_time": "2021-08-27T06:24:24.396821Z"
    }
   },
   "outputs": [],
   "source": [
    "ra = 10.\n",
    "dec = 10"
   ]
  },
  {
   "cell_type": "markdown",
   "id": "fa851dee",
   "metadata": {},
   "source": [
    "# Examine geometry"
   ]
  },
  {
   "cell_type": "code",
   "execution_count": 55,
   "id": "c50f86cc",
   "metadata": {
    "ExecuteTime": {
     "end_time": "2021-08-27T05:37:34.749755Z",
     "start_time": "2021-08-27T05:37:34.743844Z"
    }
   },
   "outputs": [],
   "source": [
    "if using_daily_data:\n",
    "    \n",
    "    position_interpolator = gbmgeometry.PositionInterpolator.from_poshist_hdf5(spacecraft_file, T0=T0)\n",
    "\n",
    "else:\n",
    "    \n",
    "    position_interpolator = gbmgeometry.PositionInterpolator.from_trigdat_hdf5(spacecraft_file)\n"
   ]
  },
  {
   "cell_type": "code",
   "execution_count": 57,
   "id": "1e6cf8dd",
   "metadata": {
    "ExecuteTime": {
     "end_time": "2021-08-27T05:37:56.880701Z",
     "start_time": "2021-08-27T05:37:55.418566Z"
    }
   },
   "outputs": [
    {
     "data": {
      "application/javascript": [
       "/* Put everything inside the global mpl namespace */\n",
       "/* global mpl */\n",
       "window.mpl = {};\n",
       "\n",
       "mpl.get_websocket_type = function () {\n",
       "    if (typeof WebSocket !== 'undefined') {\n",
       "        return WebSocket;\n",
       "    } else if (typeof MozWebSocket !== 'undefined') {\n",
       "        return MozWebSocket;\n",
       "    } else {\n",
       "        alert(\n",
       "            'Your browser does not have WebSocket support. ' +\n",
       "                'Please try Chrome, Safari or Firefox ≥ 6. ' +\n",
       "                'Firefox 4 and 5 are also supported but you ' +\n",
       "                'have to enable WebSockets in about:config.'\n",
       "        );\n",
       "    }\n",
       "};\n",
       "\n",
       "mpl.figure = function (figure_id, websocket, ondownload, parent_element) {\n",
       "    this.id = figure_id;\n",
       "\n",
       "    this.ws = websocket;\n",
       "\n",
       "    this.supports_binary = this.ws.binaryType !== undefined;\n",
       "\n",
       "    if (!this.supports_binary) {\n",
       "        var warnings = document.getElementById('mpl-warnings');\n",
       "        if (warnings) {\n",
       "            warnings.style.display = 'block';\n",
       "            warnings.textContent =\n",
       "                'This browser does not support binary websocket messages. ' +\n",
       "                'Performance may be slow.';\n",
       "        }\n",
       "    }\n",
       "\n",
       "    this.imageObj = new Image();\n",
       "\n",
       "    this.context = undefined;\n",
       "    this.message = undefined;\n",
       "    this.canvas = undefined;\n",
       "    this.rubberband_canvas = undefined;\n",
       "    this.rubberband_context = undefined;\n",
       "    this.format_dropdown = undefined;\n",
       "\n",
       "    this.image_mode = 'full';\n",
       "\n",
       "    this.root = document.createElement('div');\n",
       "    this.root.setAttribute('style', 'display: inline-block');\n",
       "    this._root_extra_style(this.root);\n",
       "\n",
       "    parent_element.appendChild(this.root);\n",
       "\n",
       "    this._init_header(this);\n",
       "    this._init_canvas(this);\n",
       "    this._init_toolbar(this);\n",
       "\n",
       "    var fig = this;\n",
       "\n",
       "    this.waiting = false;\n",
       "\n",
       "    this.ws.onopen = function () {\n",
       "        fig.send_message('supports_binary', { value: fig.supports_binary });\n",
       "        fig.send_message('send_image_mode', {});\n",
       "        if (fig.ratio !== 1) {\n",
       "            fig.send_message('set_dpi_ratio', { dpi_ratio: fig.ratio });\n",
       "        }\n",
       "        fig.send_message('refresh', {});\n",
       "    };\n",
       "\n",
       "    this.imageObj.onload = function () {\n",
       "        if (fig.image_mode === 'full') {\n",
       "            // Full images could contain transparency (where diff images\n",
       "            // almost always do), so we need to clear the canvas so that\n",
       "            // there is no ghosting.\n",
       "            fig.context.clearRect(0, 0, fig.canvas.width, fig.canvas.height);\n",
       "        }\n",
       "        fig.context.drawImage(fig.imageObj, 0, 0);\n",
       "    };\n",
       "\n",
       "    this.imageObj.onunload = function () {\n",
       "        fig.ws.close();\n",
       "    };\n",
       "\n",
       "    this.ws.onmessage = this._make_on_message_function(this);\n",
       "\n",
       "    this.ondownload = ondownload;\n",
       "};\n",
       "\n",
       "mpl.figure.prototype._init_header = function () {\n",
       "    var titlebar = document.createElement('div');\n",
       "    titlebar.classList =\n",
       "        'ui-dialog-titlebar ui-widget-header ui-corner-all ui-helper-clearfix';\n",
       "    var titletext = document.createElement('div');\n",
       "    titletext.classList = 'ui-dialog-title';\n",
       "    titletext.setAttribute(\n",
       "        'style',\n",
       "        'width: 100%; text-align: center; padding: 3px;'\n",
       "    );\n",
       "    titlebar.appendChild(titletext);\n",
       "    this.root.appendChild(titlebar);\n",
       "    this.header = titletext;\n",
       "};\n",
       "\n",
       "mpl.figure.prototype._canvas_extra_style = function (_canvas_div) {};\n",
       "\n",
       "mpl.figure.prototype._root_extra_style = function (_canvas_div) {};\n",
       "\n",
       "mpl.figure.prototype._init_canvas = function () {\n",
       "    var fig = this;\n",
       "\n",
       "    var canvas_div = (this.canvas_div = document.createElement('div'));\n",
       "    canvas_div.setAttribute(\n",
       "        'style',\n",
       "        'border: 1px solid #ddd;' +\n",
       "            'box-sizing: content-box;' +\n",
       "            'clear: both;' +\n",
       "            'min-height: 1px;' +\n",
       "            'min-width: 1px;' +\n",
       "            'outline: 0;' +\n",
       "            'overflow: hidden;' +\n",
       "            'position: relative;' +\n",
       "            'resize: both;'\n",
       "    );\n",
       "\n",
       "    function on_keyboard_event_closure(name) {\n",
       "        return function (event) {\n",
       "            return fig.key_event(event, name);\n",
       "        };\n",
       "    }\n",
       "\n",
       "    canvas_div.addEventListener(\n",
       "        'keydown',\n",
       "        on_keyboard_event_closure('key_press')\n",
       "    );\n",
       "    canvas_div.addEventListener(\n",
       "        'keyup',\n",
       "        on_keyboard_event_closure('key_release')\n",
       "    );\n",
       "\n",
       "    this._canvas_extra_style(canvas_div);\n",
       "    this.root.appendChild(canvas_div);\n",
       "\n",
       "    var canvas = (this.canvas = document.createElement('canvas'));\n",
       "    canvas.classList.add('mpl-canvas');\n",
       "    canvas.setAttribute('style', 'box-sizing: content-box;');\n",
       "\n",
       "    this.context = canvas.getContext('2d');\n",
       "\n",
       "    var backingStore =\n",
       "        this.context.backingStorePixelRatio ||\n",
       "        this.context.webkitBackingStorePixelRatio ||\n",
       "        this.context.mozBackingStorePixelRatio ||\n",
       "        this.context.msBackingStorePixelRatio ||\n",
       "        this.context.oBackingStorePixelRatio ||\n",
       "        this.context.backingStorePixelRatio ||\n",
       "        1;\n",
       "\n",
       "    this.ratio = (window.devicePixelRatio || 1) / backingStore;\n",
       "\n",
       "    var rubberband_canvas = (this.rubberband_canvas = document.createElement(\n",
       "        'canvas'\n",
       "    ));\n",
       "    rubberband_canvas.setAttribute(\n",
       "        'style',\n",
       "        'box-sizing: content-box; position: absolute; left: 0; top: 0; z-index: 1;'\n",
       "    );\n",
       "\n",
       "    // Apply a ponyfill if ResizeObserver is not implemented by browser.\n",
       "    if (this.ResizeObserver === undefined) {\n",
       "        if (window.ResizeObserver !== undefined) {\n",
       "            this.ResizeObserver = window.ResizeObserver;\n",
       "        } else {\n",
       "            var obs = _JSXTOOLS_RESIZE_OBSERVER({});\n",
       "            this.ResizeObserver = obs.ResizeObserver;\n",
       "        }\n",
       "    }\n",
       "\n",
       "    this.resizeObserverInstance = new this.ResizeObserver(function (entries) {\n",
       "        var nentries = entries.length;\n",
       "        for (var i = 0; i < nentries; i++) {\n",
       "            var entry = entries[i];\n",
       "            var width, height;\n",
       "            if (entry.contentBoxSize) {\n",
       "                if (entry.contentBoxSize instanceof Array) {\n",
       "                    // Chrome 84 implements new version of spec.\n",
       "                    width = entry.contentBoxSize[0].inlineSize;\n",
       "                    height = entry.contentBoxSize[0].blockSize;\n",
       "                } else {\n",
       "                    // Firefox implements old version of spec.\n",
       "                    width = entry.contentBoxSize.inlineSize;\n",
       "                    height = entry.contentBoxSize.blockSize;\n",
       "                }\n",
       "            } else {\n",
       "                // Chrome <84 implements even older version of spec.\n",
       "                width = entry.contentRect.width;\n",
       "                height = entry.contentRect.height;\n",
       "            }\n",
       "\n",
       "            // Keep the size of the canvas and rubber band canvas in sync with\n",
       "            // the canvas container.\n",
       "            if (entry.devicePixelContentBoxSize) {\n",
       "                // Chrome 84 implements new version of spec.\n",
       "                canvas.setAttribute(\n",
       "                    'width',\n",
       "                    entry.devicePixelContentBoxSize[0].inlineSize\n",
       "                );\n",
       "                canvas.setAttribute(\n",
       "                    'height',\n",
       "                    entry.devicePixelContentBoxSize[0].blockSize\n",
       "                );\n",
       "            } else {\n",
       "                canvas.setAttribute('width', width * fig.ratio);\n",
       "                canvas.setAttribute('height', height * fig.ratio);\n",
       "            }\n",
       "            canvas.setAttribute(\n",
       "                'style',\n",
       "                'width: ' + width + 'px; height: ' + height + 'px;'\n",
       "            );\n",
       "\n",
       "            rubberband_canvas.setAttribute('width', width);\n",
       "            rubberband_canvas.setAttribute('height', height);\n",
       "\n",
       "            // And update the size in Python. We ignore the initial 0/0 size\n",
       "            // that occurs as the element is placed into the DOM, which should\n",
       "            // otherwise not happen due to the minimum size styling.\n",
       "            if (fig.ws.readyState == 1 && width != 0 && height != 0) {\n",
       "                fig.request_resize(width, height);\n",
       "            }\n",
       "        }\n",
       "    });\n",
       "    this.resizeObserverInstance.observe(canvas_div);\n",
       "\n",
       "    function on_mouse_event_closure(name) {\n",
       "        return function (event) {\n",
       "            return fig.mouse_event(event, name);\n",
       "        };\n",
       "    }\n",
       "\n",
       "    rubberband_canvas.addEventListener(\n",
       "        'mousedown',\n",
       "        on_mouse_event_closure('button_press')\n",
       "    );\n",
       "    rubberband_canvas.addEventListener(\n",
       "        'mouseup',\n",
       "        on_mouse_event_closure('button_release')\n",
       "    );\n",
       "    rubberband_canvas.addEventListener(\n",
       "        'dblclick',\n",
       "        on_mouse_event_closure('dblclick')\n",
       "    );\n",
       "    // Throttle sequential mouse events to 1 every 20ms.\n",
       "    rubberband_canvas.addEventListener(\n",
       "        'mousemove',\n",
       "        on_mouse_event_closure('motion_notify')\n",
       "    );\n",
       "\n",
       "    rubberband_canvas.addEventListener(\n",
       "        'mouseenter',\n",
       "        on_mouse_event_closure('figure_enter')\n",
       "    );\n",
       "    rubberband_canvas.addEventListener(\n",
       "        'mouseleave',\n",
       "        on_mouse_event_closure('figure_leave')\n",
       "    );\n",
       "\n",
       "    canvas_div.addEventListener('wheel', function (event) {\n",
       "        if (event.deltaY < 0) {\n",
       "            event.step = 1;\n",
       "        } else {\n",
       "            event.step = -1;\n",
       "        }\n",
       "        on_mouse_event_closure('scroll')(event);\n",
       "    });\n",
       "\n",
       "    canvas_div.appendChild(canvas);\n",
       "    canvas_div.appendChild(rubberband_canvas);\n",
       "\n",
       "    this.rubberband_context = rubberband_canvas.getContext('2d');\n",
       "    this.rubberband_context.strokeStyle = '#000000';\n",
       "\n",
       "    this._resize_canvas = function (width, height, forward) {\n",
       "        if (forward) {\n",
       "            canvas_div.style.width = width + 'px';\n",
       "            canvas_div.style.height = height + 'px';\n",
       "        }\n",
       "    };\n",
       "\n",
       "    // Disable right mouse context menu.\n",
       "    this.rubberband_canvas.addEventListener('contextmenu', function (_e) {\n",
       "        event.preventDefault();\n",
       "        return false;\n",
       "    });\n",
       "\n",
       "    function set_focus() {\n",
       "        canvas.focus();\n",
       "        canvas_div.focus();\n",
       "    }\n",
       "\n",
       "    window.setTimeout(set_focus, 100);\n",
       "};\n",
       "\n",
       "mpl.figure.prototype._init_toolbar = function () {\n",
       "    var fig = this;\n",
       "\n",
       "    var toolbar = document.createElement('div');\n",
       "    toolbar.classList = 'mpl-toolbar';\n",
       "    this.root.appendChild(toolbar);\n",
       "\n",
       "    function on_click_closure(name) {\n",
       "        return function (_event) {\n",
       "            return fig.toolbar_button_onclick(name);\n",
       "        };\n",
       "    }\n",
       "\n",
       "    function on_mouseover_closure(tooltip) {\n",
       "        return function (event) {\n",
       "            if (!event.currentTarget.disabled) {\n",
       "                return fig.toolbar_button_onmouseover(tooltip);\n",
       "            }\n",
       "        };\n",
       "    }\n",
       "\n",
       "    fig.buttons = {};\n",
       "    var buttonGroup = document.createElement('div');\n",
       "    buttonGroup.classList = 'mpl-button-group';\n",
       "    for (var toolbar_ind in mpl.toolbar_items) {\n",
       "        var name = mpl.toolbar_items[toolbar_ind][0];\n",
       "        var tooltip = mpl.toolbar_items[toolbar_ind][1];\n",
       "        var image = mpl.toolbar_items[toolbar_ind][2];\n",
       "        var method_name = mpl.toolbar_items[toolbar_ind][3];\n",
       "\n",
       "        if (!name) {\n",
       "            /* Instead of a spacer, we start a new button group. */\n",
       "            if (buttonGroup.hasChildNodes()) {\n",
       "                toolbar.appendChild(buttonGroup);\n",
       "            }\n",
       "            buttonGroup = document.createElement('div');\n",
       "            buttonGroup.classList = 'mpl-button-group';\n",
       "            continue;\n",
       "        }\n",
       "\n",
       "        var button = (fig.buttons[name] = document.createElement('button'));\n",
       "        button.classList = 'mpl-widget';\n",
       "        button.setAttribute('role', 'button');\n",
       "        button.setAttribute('aria-disabled', 'false');\n",
       "        button.addEventListener('click', on_click_closure(method_name));\n",
       "        button.addEventListener('mouseover', on_mouseover_closure(tooltip));\n",
       "\n",
       "        var icon_img = document.createElement('img');\n",
       "        icon_img.src = '_images/' + image + '.png';\n",
       "        icon_img.srcset = '_images/' + image + '_large.png 2x';\n",
       "        icon_img.alt = tooltip;\n",
       "        button.appendChild(icon_img);\n",
       "\n",
       "        buttonGroup.appendChild(button);\n",
       "    }\n",
       "\n",
       "    if (buttonGroup.hasChildNodes()) {\n",
       "        toolbar.appendChild(buttonGroup);\n",
       "    }\n",
       "\n",
       "    var fmt_picker = document.createElement('select');\n",
       "    fmt_picker.classList = 'mpl-widget';\n",
       "    toolbar.appendChild(fmt_picker);\n",
       "    this.format_dropdown = fmt_picker;\n",
       "\n",
       "    for (var ind in mpl.extensions) {\n",
       "        var fmt = mpl.extensions[ind];\n",
       "        var option = document.createElement('option');\n",
       "        option.selected = fmt === mpl.default_extension;\n",
       "        option.innerHTML = fmt;\n",
       "        fmt_picker.appendChild(option);\n",
       "    }\n",
       "\n",
       "    var status_bar = document.createElement('span');\n",
       "    status_bar.classList = 'mpl-message';\n",
       "    toolbar.appendChild(status_bar);\n",
       "    this.message = status_bar;\n",
       "};\n",
       "\n",
       "mpl.figure.prototype.request_resize = function (x_pixels, y_pixels) {\n",
       "    // Request matplotlib to resize the figure. Matplotlib will then trigger a resize in the client,\n",
       "    // which will in turn request a refresh of the image.\n",
       "    this.send_message('resize', { width: x_pixels, height: y_pixels });\n",
       "};\n",
       "\n",
       "mpl.figure.prototype.send_message = function (type, properties) {\n",
       "    properties['type'] = type;\n",
       "    properties['figure_id'] = this.id;\n",
       "    this.ws.send(JSON.stringify(properties));\n",
       "};\n",
       "\n",
       "mpl.figure.prototype.send_draw_message = function () {\n",
       "    if (!this.waiting) {\n",
       "        this.waiting = true;\n",
       "        this.ws.send(JSON.stringify({ type: 'draw', figure_id: this.id }));\n",
       "    }\n",
       "};\n",
       "\n",
       "mpl.figure.prototype.handle_save = function (fig, _msg) {\n",
       "    var format_dropdown = fig.format_dropdown;\n",
       "    var format = format_dropdown.options[format_dropdown.selectedIndex].value;\n",
       "    fig.ondownload(fig, format);\n",
       "};\n",
       "\n",
       "mpl.figure.prototype.handle_resize = function (fig, msg) {\n",
       "    var size = msg['size'];\n",
       "    if (size[0] !== fig.canvas.width || size[1] !== fig.canvas.height) {\n",
       "        fig._resize_canvas(size[0], size[1], msg['forward']);\n",
       "        fig.send_message('refresh', {});\n",
       "    }\n",
       "};\n",
       "\n",
       "mpl.figure.prototype.handle_rubberband = function (fig, msg) {\n",
       "    var x0 = msg['x0'] / fig.ratio;\n",
       "    var y0 = (fig.canvas.height - msg['y0']) / fig.ratio;\n",
       "    var x1 = msg['x1'] / fig.ratio;\n",
       "    var y1 = (fig.canvas.height - msg['y1']) / fig.ratio;\n",
       "    x0 = Math.floor(x0) + 0.5;\n",
       "    y0 = Math.floor(y0) + 0.5;\n",
       "    x1 = Math.floor(x1) + 0.5;\n",
       "    y1 = Math.floor(y1) + 0.5;\n",
       "    var min_x = Math.min(x0, x1);\n",
       "    var min_y = Math.min(y0, y1);\n",
       "    var width = Math.abs(x1 - x0);\n",
       "    var height = Math.abs(y1 - y0);\n",
       "\n",
       "    fig.rubberband_context.clearRect(\n",
       "        0,\n",
       "        0,\n",
       "        fig.canvas.width / fig.ratio,\n",
       "        fig.canvas.height / fig.ratio\n",
       "    );\n",
       "\n",
       "    fig.rubberband_context.strokeRect(min_x, min_y, width, height);\n",
       "};\n",
       "\n",
       "mpl.figure.prototype.handle_figure_label = function (fig, msg) {\n",
       "    // Updates the figure title.\n",
       "    fig.header.textContent = msg['label'];\n",
       "};\n",
       "\n",
       "mpl.figure.prototype.handle_cursor = function (fig, msg) {\n",
       "    var cursor = msg['cursor'];\n",
       "    switch (cursor) {\n",
       "        case 0:\n",
       "            cursor = 'pointer';\n",
       "            break;\n",
       "        case 1:\n",
       "            cursor = 'default';\n",
       "            break;\n",
       "        case 2:\n",
       "            cursor = 'crosshair';\n",
       "            break;\n",
       "        case 3:\n",
       "            cursor = 'move';\n",
       "            break;\n",
       "    }\n",
       "    fig.rubberband_canvas.style.cursor = cursor;\n",
       "};\n",
       "\n",
       "mpl.figure.prototype.handle_message = function (fig, msg) {\n",
       "    fig.message.textContent = msg['message'];\n",
       "};\n",
       "\n",
       "mpl.figure.prototype.handle_draw = function (fig, _msg) {\n",
       "    // Request the server to send over a new figure.\n",
       "    fig.send_draw_message();\n",
       "};\n",
       "\n",
       "mpl.figure.prototype.handle_image_mode = function (fig, msg) {\n",
       "    fig.image_mode = msg['mode'];\n",
       "};\n",
       "\n",
       "mpl.figure.prototype.handle_history_buttons = function (fig, msg) {\n",
       "    for (var key in msg) {\n",
       "        if (!(key in fig.buttons)) {\n",
       "            continue;\n",
       "        }\n",
       "        fig.buttons[key].disabled = !msg[key];\n",
       "        fig.buttons[key].setAttribute('aria-disabled', !msg[key]);\n",
       "    }\n",
       "};\n",
       "\n",
       "mpl.figure.prototype.handle_navigate_mode = function (fig, msg) {\n",
       "    if (msg['mode'] === 'PAN') {\n",
       "        fig.buttons['Pan'].classList.add('active');\n",
       "        fig.buttons['Zoom'].classList.remove('active');\n",
       "    } else if (msg['mode'] === 'ZOOM') {\n",
       "        fig.buttons['Pan'].classList.remove('active');\n",
       "        fig.buttons['Zoom'].classList.add('active');\n",
       "    } else {\n",
       "        fig.buttons['Pan'].classList.remove('active');\n",
       "        fig.buttons['Zoom'].classList.remove('active');\n",
       "    }\n",
       "};\n",
       "\n",
       "mpl.figure.prototype.updated_canvas_event = function () {\n",
       "    // Called whenever the canvas gets updated.\n",
       "    this.send_message('ack', {});\n",
       "};\n",
       "\n",
       "// A function to construct a web socket function for onmessage handling.\n",
       "// Called in the figure constructor.\n",
       "mpl.figure.prototype._make_on_message_function = function (fig) {\n",
       "    return function socket_on_message(evt) {\n",
       "        if (evt.data instanceof Blob) {\n",
       "            var img = evt.data;\n",
       "            if (img.type !== 'image/png') {\n",
       "                /* FIXME: We get \"Resource interpreted as Image but\n",
       "                 * transferred with MIME type text/plain:\" errors on\n",
       "                 * Chrome.  But how to set the MIME type?  It doesn't seem\n",
       "                 * to be part of the websocket stream */\n",
       "                img.type = 'image/png';\n",
       "            }\n",
       "\n",
       "            /* Free the memory for the previous frames */\n",
       "            if (fig.imageObj.src) {\n",
       "                (window.URL || window.webkitURL).revokeObjectURL(\n",
       "                    fig.imageObj.src\n",
       "                );\n",
       "            }\n",
       "\n",
       "            fig.imageObj.src = (window.URL || window.webkitURL).createObjectURL(\n",
       "                img\n",
       "            );\n",
       "            fig.updated_canvas_event();\n",
       "            fig.waiting = false;\n",
       "            return;\n",
       "        } else if (\n",
       "            typeof evt.data === 'string' &&\n",
       "            evt.data.slice(0, 21) === 'data:image/png;base64'\n",
       "        ) {\n",
       "            fig.imageObj.src = evt.data;\n",
       "            fig.updated_canvas_event();\n",
       "            fig.waiting = false;\n",
       "            return;\n",
       "        }\n",
       "\n",
       "        var msg = JSON.parse(evt.data);\n",
       "        var msg_type = msg['type'];\n",
       "\n",
       "        // Call the  \"handle_{type}\" callback, which takes\n",
       "        // the figure and JSON message as its only arguments.\n",
       "        try {\n",
       "            var callback = fig['handle_' + msg_type];\n",
       "        } catch (e) {\n",
       "            console.log(\n",
       "                \"No handler for the '\" + msg_type + \"' message type: \",\n",
       "                msg\n",
       "            );\n",
       "            return;\n",
       "        }\n",
       "\n",
       "        if (callback) {\n",
       "            try {\n",
       "                // console.log(\"Handling '\" + msg_type + \"' message: \", msg);\n",
       "                callback(fig, msg);\n",
       "            } catch (e) {\n",
       "                console.log(\n",
       "                    \"Exception inside the 'handler_\" + msg_type + \"' callback:\",\n",
       "                    e,\n",
       "                    e.stack,\n",
       "                    msg\n",
       "                );\n",
       "            }\n",
       "        }\n",
       "    };\n",
       "};\n",
       "\n",
       "// from http://stackoverflow.com/questions/1114465/getting-mouse-location-in-canvas\n",
       "mpl.findpos = function (e) {\n",
       "    //this section is from http://www.quirksmode.org/js/events_properties.html\n",
       "    var targ;\n",
       "    if (!e) {\n",
       "        e = window.event;\n",
       "    }\n",
       "    if (e.target) {\n",
       "        targ = e.target;\n",
       "    } else if (e.srcElement) {\n",
       "        targ = e.srcElement;\n",
       "    }\n",
       "    if (targ.nodeType === 3) {\n",
       "        // defeat Safari bug\n",
       "        targ = targ.parentNode;\n",
       "    }\n",
       "\n",
       "    // pageX,Y are the mouse positions relative to the document\n",
       "    var boundingRect = targ.getBoundingClientRect();\n",
       "    var x = e.pageX - (boundingRect.left + document.body.scrollLeft);\n",
       "    var y = e.pageY - (boundingRect.top + document.body.scrollTop);\n",
       "\n",
       "    return { x: x, y: y };\n",
       "};\n",
       "\n",
       "/*\n",
       " * return a copy of an object with only non-object keys\n",
       " * we need this to avoid circular references\n",
       " * http://stackoverflow.com/a/24161582/3208463\n",
       " */\n",
       "function simpleKeys(original) {\n",
       "    return Object.keys(original).reduce(function (obj, key) {\n",
       "        if (typeof original[key] !== 'object') {\n",
       "            obj[key] = original[key];\n",
       "        }\n",
       "        return obj;\n",
       "    }, {});\n",
       "}\n",
       "\n",
       "mpl.figure.prototype.mouse_event = function (event, name) {\n",
       "    var canvas_pos = mpl.findpos(event);\n",
       "\n",
       "    if (name === 'button_press') {\n",
       "        this.canvas.focus();\n",
       "        this.canvas_div.focus();\n",
       "    }\n",
       "\n",
       "    var x = canvas_pos.x * this.ratio;\n",
       "    var y = canvas_pos.y * this.ratio;\n",
       "\n",
       "    this.send_message(name, {\n",
       "        x: x,\n",
       "        y: y,\n",
       "        button: event.button,\n",
       "        step: event.step,\n",
       "        guiEvent: simpleKeys(event),\n",
       "    });\n",
       "\n",
       "    /* This prevents the web browser from automatically changing to\n",
       "     * the text insertion cursor when the button is pressed.  We want\n",
       "     * to control all of the cursor setting manually through the\n",
       "     * 'cursor' event from matplotlib */\n",
       "    event.preventDefault();\n",
       "    return false;\n",
       "};\n",
       "\n",
       "mpl.figure.prototype._key_event_extra = function (_event, _name) {\n",
       "    // Handle any extra behaviour associated with a key event\n",
       "};\n",
       "\n",
       "mpl.figure.prototype.key_event = function (event, name) {\n",
       "    // Prevent repeat events\n",
       "    if (name === 'key_press') {\n",
       "        if (event.key === this._key) {\n",
       "            return;\n",
       "        } else {\n",
       "            this._key = event.key;\n",
       "        }\n",
       "    }\n",
       "    if (name === 'key_release') {\n",
       "        this._key = null;\n",
       "    }\n",
       "\n",
       "    var value = '';\n",
       "    if (event.ctrlKey && event.key !== 'Control') {\n",
       "        value += 'ctrl+';\n",
       "    }\n",
       "    else if (event.altKey && event.key !== 'Alt') {\n",
       "        value += 'alt+';\n",
       "    }\n",
       "    else if (event.shiftKey && event.key !== 'Shift') {\n",
       "        value += 'shift+';\n",
       "    }\n",
       "\n",
       "    value += 'k' + event.key;\n",
       "\n",
       "    this._key_event_extra(event, name);\n",
       "\n",
       "    this.send_message(name, { key: value, guiEvent: simpleKeys(event) });\n",
       "    return false;\n",
       "};\n",
       "\n",
       "mpl.figure.prototype.toolbar_button_onclick = function (name) {\n",
       "    if (name === 'download') {\n",
       "        this.handle_save(this, null);\n",
       "    } else {\n",
       "        this.send_message('toolbar_button', { name: name });\n",
       "    }\n",
       "};\n",
       "\n",
       "mpl.figure.prototype.toolbar_button_onmouseover = function (tooltip) {\n",
       "    this.message.textContent = tooltip;\n",
       "};\n",
       "\n",
       "///////////////// REMAINING CONTENT GENERATED BY embed_js.py /////////////////\n",
       "// prettier-ignore\n",
       "var _JSXTOOLS_RESIZE_OBSERVER=function(A){var t,i=new WeakMap,n=new WeakMap,a=new WeakMap,r=new WeakMap,o=new Set;function s(e){if(!(this instanceof s))throw new TypeError(\"Constructor requires 'new' operator\");i.set(this,e)}function h(){throw new TypeError(\"Function is not a constructor\")}function c(e,t,i,n){e=0 in arguments?Number(arguments[0]):0,t=1 in arguments?Number(arguments[1]):0,i=2 in arguments?Number(arguments[2]):0,n=3 in arguments?Number(arguments[3]):0,this.right=(this.x=this.left=e)+(this.width=i),this.bottom=(this.y=this.top=t)+(this.height=n),Object.freeze(this)}function d(){t=requestAnimationFrame(d);var s=new WeakMap,p=new Set;o.forEach((function(t){r.get(t).forEach((function(i){var r=t instanceof window.SVGElement,o=a.get(t),d=r?0:parseFloat(o.paddingTop),f=r?0:parseFloat(o.paddingRight),l=r?0:parseFloat(o.paddingBottom),u=r?0:parseFloat(o.paddingLeft),g=r?0:parseFloat(o.borderTopWidth),m=r?0:parseFloat(o.borderRightWidth),w=r?0:parseFloat(o.borderBottomWidth),b=u+f,F=d+l,v=(r?0:parseFloat(o.borderLeftWidth))+m,W=g+w,y=r?0:t.offsetHeight-W-t.clientHeight,E=r?0:t.offsetWidth-v-t.clientWidth,R=b+v,z=F+W,M=r?t.width:parseFloat(o.width)-R-E,O=r?t.height:parseFloat(o.height)-z-y;if(n.has(t)){var k=n.get(t);if(k[0]===M&&k[1]===O)return}n.set(t,[M,O]);var S=Object.create(h.prototype);S.target=t,S.contentRect=new c(u,d,M,O),s.has(i)||(s.set(i,[]),p.add(i)),s.get(i).push(S)}))})),p.forEach((function(e){i.get(e).call(e,s.get(e),e)}))}return s.prototype.observe=function(i){if(i instanceof window.Element){r.has(i)||(r.set(i,new Set),o.add(i),a.set(i,window.getComputedStyle(i)));var n=r.get(i);n.has(this)||n.add(this),cancelAnimationFrame(t),t=requestAnimationFrame(d)}},s.prototype.unobserve=function(i){if(i instanceof window.Element&&r.has(i)){var n=r.get(i);n.has(this)&&(n.delete(this),n.size||(r.delete(i),o.delete(i))),n.size||r.delete(i),o.size||cancelAnimationFrame(t)}},A.DOMRectReadOnly=c,A.ResizeObserver=s,A.ResizeObserverEntry=h,A}; // eslint-disable-line\n",
       "mpl.toolbar_items = [[\"Home\", \"Reset original view\", \"fa fa-home icon-home\", \"home\"], [\"Back\", \"Back to previous view\", \"fa fa-arrow-left icon-arrow-left\", \"back\"], [\"Forward\", \"Forward to next view\", \"fa fa-arrow-right icon-arrow-right\", \"forward\"], [\"\", \"\", \"\", \"\"], [\"Pan\", \"Left button pans, Right button zooms\\nx/y fixes axis, CTRL fixes aspect\", \"fa fa-arrows icon-move\", \"pan\"], [\"Zoom\", \"Zoom to rectangle\\nx/y fixes axis, CTRL fixes aspect\", \"fa fa-square-o icon-check-empty\", \"zoom\"], [\"\", \"\", \"\", \"\"], [\"Download\", \"Download plot\", \"fa fa-floppy-o icon-save\", \"download\"]];\n",
       "\n",
       "mpl.extensions = [\"eps\", \"jpeg\", \"pgf\", \"pdf\", \"png\", \"ps\", \"raw\", \"svg\", \"tif\"];\n",
       "\n",
       "mpl.default_extension = \"png\";/* global mpl */\n",
       "\n",
       "var comm_websocket_adapter = function (comm) {\n",
       "    // Create a \"websocket\"-like object which calls the given IPython comm\n",
       "    // object with the appropriate methods. Currently this is a non binary\n",
       "    // socket, so there is still some room for performance tuning.\n",
       "    var ws = {};\n",
       "\n",
       "    ws.binaryType = comm.kernel.ws.binaryType;\n",
       "    ws.readyState = comm.kernel.ws.readyState;\n",
       "    function updateReadyState(_event) {\n",
       "        if (comm.kernel.ws) {\n",
       "            ws.readyState = comm.kernel.ws.readyState;\n",
       "        } else {\n",
       "            ws.readyState = 3; // Closed state.\n",
       "        }\n",
       "    }\n",
       "    comm.kernel.ws.addEventListener('open', updateReadyState);\n",
       "    comm.kernel.ws.addEventListener('close', updateReadyState);\n",
       "    comm.kernel.ws.addEventListener('error', updateReadyState);\n",
       "\n",
       "    ws.close = function () {\n",
       "        comm.close();\n",
       "    };\n",
       "    ws.send = function (m) {\n",
       "        //console.log('sending', m);\n",
       "        comm.send(m);\n",
       "    };\n",
       "    // Register the callback with on_msg.\n",
       "    comm.on_msg(function (msg) {\n",
       "        //console.log('receiving', msg['content']['data'], msg);\n",
       "        var data = msg['content']['data'];\n",
       "        if (data['blob'] !== undefined) {\n",
       "            data = {\n",
       "                data: new Blob(msg['buffers'], { type: data['blob'] }),\n",
       "            };\n",
       "        }\n",
       "        // Pass the mpl event to the overridden (by mpl) onmessage function.\n",
       "        ws.onmessage(data);\n",
       "    });\n",
       "    return ws;\n",
       "};\n",
       "\n",
       "mpl.mpl_figure_comm = function (comm, msg) {\n",
       "    // This is the function which gets called when the mpl process\n",
       "    // starts-up an IPython Comm through the \"matplotlib\" channel.\n",
       "\n",
       "    var id = msg.content.data.id;\n",
       "    // Get hold of the div created by the display call when the Comm\n",
       "    // socket was opened in Python.\n",
       "    var element = document.getElementById(id);\n",
       "    var ws_proxy = comm_websocket_adapter(comm);\n",
       "\n",
       "    function ondownload(figure, _format) {\n",
       "        window.open(figure.canvas.toDataURL());\n",
       "    }\n",
       "\n",
       "    var fig = new mpl.figure(id, ws_proxy, ondownload, element);\n",
       "\n",
       "    // Call onopen now - mpl needs it, as it is assuming we've passed it a real\n",
       "    // web socket which is closed, not our websocket->open comm proxy.\n",
       "    ws_proxy.onopen();\n",
       "\n",
       "    fig.parent_element = element;\n",
       "    fig.cell_info = mpl.find_output_cell(\"<div id='\" + id + \"'></div>\");\n",
       "    if (!fig.cell_info) {\n",
       "        console.error('Failed to find cell for figure', id, fig);\n",
       "        return;\n",
       "    }\n",
       "    fig.cell_info[0].output_area.element.on(\n",
       "        'cleared',\n",
       "        { fig: fig },\n",
       "        fig._remove_fig_handler\n",
       "    );\n",
       "};\n",
       "\n",
       "mpl.figure.prototype.handle_close = function (fig, msg) {\n",
       "    var width = fig.canvas.width / fig.ratio;\n",
       "    fig.cell_info[0].output_area.element.off(\n",
       "        'cleared',\n",
       "        fig._remove_fig_handler\n",
       "    );\n",
       "    fig.resizeObserverInstance.unobserve(fig.canvas_div);\n",
       "\n",
       "    // Update the output cell to use the data from the current canvas.\n",
       "    fig.push_to_output();\n",
       "    var dataURL = fig.canvas.toDataURL();\n",
       "    // Re-enable the keyboard manager in IPython - without this line, in FF,\n",
       "    // the notebook keyboard shortcuts fail.\n",
       "    IPython.keyboard_manager.enable();\n",
       "    fig.parent_element.innerHTML =\n",
       "        '<img src=\"' + dataURL + '\" width=\"' + width + '\">';\n",
       "    fig.close_ws(fig, msg);\n",
       "};\n",
       "\n",
       "mpl.figure.prototype.close_ws = function (fig, msg) {\n",
       "    fig.send_message('closing', msg);\n",
       "    // fig.ws.close()\n",
       "};\n",
       "\n",
       "mpl.figure.prototype.push_to_output = function (_remove_interactive) {\n",
       "    // Turn the data on the canvas into data in the output cell.\n",
       "    var width = this.canvas.width / this.ratio;\n",
       "    var dataURL = this.canvas.toDataURL();\n",
       "    this.cell_info[1]['text/html'] =\n",
       "        '<img src=\"' + dataURL + '\" width=\"' + width + '\">';\n",
       "};\n",
       "\n",
       "mpl.figure.prototype.updated_canvas_event = function () {\n",
       "    // Tell IPython that the notebook contents must change.\n",
       "    IPython.notebook.set_dirty(true);\n",
       "    this.send_message('ack', {});\n",
       "    var fig = this;\n",
       "    // Wait a second, then push the new image to the DOM so\n",
       "    // that it is saved nicely (might be nice to debounce this).\n",
       "    setTimeout(function () {\n",
       "        fig.push_to_output();\n",
       "    }, 1000);\n",
       "};\n",
       "\n",
       "mpl.figure.prototype._init_toolbar = function () {\n",
       "    var fig = this;\n",
       "\n",
       "    var toolbar = document.createElement('div');\n",
       "    toolbar.classList = 'btn-toolbar';\n",
       "    this.root.appendChild(toolbar);\n",
       "\n",
       "    function on_click_closure(name) {\n",
       "        return function (_event) {\n",
       "            return fig.toolbar_button_onclick(name);\n",
       "        };\n",
       "    }\n",
       "\n",
       "    function on_mouseover_closure(tooltip) {\n",
       "        return function (event) {\n",
       "            if (!event.currentTarget.disabled) {\n",
       "                return fig.toolbar_button_onmouseover(tooltip);\n",
       "            }\n",
       "        };\n",
       "    }\n",
       "\n",
       "    fig.buttons = {};\n",
       "    var buttonGroup = document.createElement('div');\n",
       "    buttonGroup.classList = 'btn-group';\n",
       "    var button;\n",
       "    for (var toolbar_ind in mpl.toolbar_items) {\n",
       "        var name = mpl.toolbar_items[toolbar_ind][0];\n",
       "        var tooltip = mpl.toolbar_items[toolbar_ind][1];\n",
       "        var image = mpl.toolbar_items[toolbar_ind][2];\n",
       "        var method_name = mpl.toolbar_items[toolbar_ind][3];\n",
       "\n",
       "        if (!name) {\n",
       "            /* Instead of a spacer, we start a new button group. */\n",
       "            if (buttonGroup.hasChildNodes()) {\n",
       "                toolbar.appendChild(buttonGroup);\n",
       "            }\n",
       "            buttonGroup = document.createElement('div');\n",
       "            buttonGroup.classList = 'btn-group';\n",
       "            continue;\n",
       "        }\n",
       "\n",
       "        button = fig.buttons[name] = document.createElement('button');\n",
       "        button.classList = 'btn btn-default';\n",
       "        button.href = '#';\n",
       "        button.title = name;\n",
       "        button.innerHTML = '<i class=\"fa ' + image + ' fa-lg\"></i>';\n",
       "        button.addEventListener('click', on_click_closure(method_name));\n",
       "        button.addEventListener('mouseover', on_mouseover_closure(tooltip));\n",
       "        buttonGroup.appendChild(button);\n",
       "    }\n",
       "\n",
       "    if (buttonGroup.hasChildNodes()) {\n",
       "        toolbar.appendChild(buttonGroup);\n",
       "    }\n",
       "\n",
       "    // Add the status bar.\n",
       "    var status_bar = document.createElement('span');\n",
       "    status_bar.classList = 'mpl-message pull-right';\n",
       "    toolbar.appendChild(status_bar);\n",
       "    this.message = status_bar;\n",
       "\n",
       "    // Add the close button to the window.\n",
       "    var buttongrp = document.createElement('div');\n",
       "    buttongrp.classList = 'btn-group inline pull-right';\n",
       "    button = document.createElement('button');\n",
       "    button.classList = 'btn btn-mini btn-primary';\n",
       "    button.href = '#';\n",
       "    button.title = 'Stop Interaction';\n",
       "    button.innerHTML = '<i class=\"fa fa-power-off icon-remove icon-large\"></i>';\n",
       "    button.addEventListener('click', function (_evt) {\n",
       "        fig.handle_close(fig, {});\n",
       "    });\n",
       "    button.addEventListener(\n",
       "        'mouseover',\n",
       "        on_mouseover_closure('Stop Interaction')\n",
       "    );\n",
       "    buttongrp.appendChild(button);\n",
       "    var titlebar = this.root.querySelector('.ui-dialog-titlebar');\n",
       "    titlebar.insertBefore(buttongrp, titlebar.firstChild);\n",
       "};\n",
       "\n",
       "mpl.figure.prototype._remove_fig_handler = function (event) {\n",
       "    var fig = event.data.fig;\n",
       "    if (event.target !== this) {\n",
       "        // Ignore bubbled events from children.\n",
       "        return;\n",
       "    }\n",
       "    fig.close_ws(fig, {});\n",
       "};\n",
       "\n",
       "mpl.figure.prototype._root_extra_style = function (el) {\n",
       "    el.style.boxSizing = 'content-box'; // override notebook setting of border-box.\n",
       "};\n",
       "\n",
       "mpl.figure.prototype._canvas_extra_style = function (el) {\n",
       "    // this is important to make the div 'focusable\n",
       "    el.setAttribute('tabindex', 0);\n",
       "    // reach out to IPython and tell the keyboard manager to turn it's self\n",
       "    // off when our div gets focus\n",
       "\n",
       "    // location in version 3\n",
       "    if (IPython.notebook.keyboard_manager) {\n",
       "        IPython.notebook.keyboard_manager.register_events(el);\n",
       "    } else {\n",
       "        // location in version 2\n",
       "        IPython.keyboard_manager.register_events(el);\n",
       "    }\n",
       "};\n",
       "\n",
       "mpl.figure.prototype._key_event_extra = function (event, _name) {\n",
       "    var manager = IPython.notebook.keyboard_manager;\n",
       "    if (!manager) {\n",
       "        manager = IPython.keyboard_manager;\n",
       "    }\n",
       "\n",
       "    // Check for shift+enter\n",
       "    if (event.shiftKey && event.which === 13) {\n",
       "        this.canvas_div.blur();\n",
       "        // select the cell after this one\n",
       "        var index = IPython.notebook.find_cell_index(this.cell_info[0]);\n",
       "        IPython.notebook.select(index + 1);\n",
       "    }\n",
       "};\n",
       "\n",
       "mpl.figure.prototype.handle_save = function (fig, _msg) {\n",
       "    fig.ondownload(fig, null);\n",
       "};\n",
       "\n",
       "mpl.find_output_cell = function (html_output) {\n",
       "    // Return the cell and output element which can be found *uniquely* in the notebook.\n",
       "    // Note - this is a bit hacky, but it is done because the \"notebook_saving.Notebook\"\n",
       "    // IPython event is triggered only after the cells have been serialised, which for\n",
       "    // our purposes (turning an active figure into a static one), is too late.\n",
       "    var cells = IPython.notebook.get_cells();\n",
       "    var ncells = cells.length;\n",
       "    for (var i = 0; i < ncells; i++) {\n",
       "        var cell = cells[i];\n",
       "        if (cell.cell_type === 'code') {\n",
       "            for (var j = 0; j < cell.output_area.outputs.length; j++) {\n",
       "                var data = cell.output_area.outputs[j];\n",
       "                if (data.data) {\n",
       "                    // IPython >= 3 moved mimebundle to data attribute of output\n",
       "                    data = data.data;\n",
       "                }\n",
       "                if (data['text/html'] === html_output) {\n",
       "                    return [cell, data, j];\n",
       "                }\n",
       "            }\n",
       "        }\n",
       "    }\n",
       "};\n",
       "\n",
       "// Register the function which deals with the matplotlib target/channel.\n",
       "// The kernel may be null if the page has been refreshed.\n",
       "if (IPython.notebook.kernel !== null) {\n",
       "    IPython.notebook.kernel.comm_manager.register_target(\n",
       "        'matplotlib',\n",
       "        mpl.mpl_figure_comm\n",
       "    );\n",
       "}\n"
      ],
      "text/plain": [
       "<IPython.core.display.Javascript object>"
      ]
     },
     "metadata": {},
     "output_type": "display_data"
    },
    {
     "data": {
      "text/html": [
       "<img src=\"data:image/png;base64,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\" width=\"640\">"
      ],
      "text/plain": [
       "<IPython.core.display.HTML object>"
      ]
     },
     "metadata": {},
     "output_type": "display_data"
    }
   ],
   "source": [
    "from gbmgeometry.spacecraft.fermi import *\n",
    "from astropy.coordinates import SkyCoord\n",
    "\n",
    "coord = SkyCoord(ra=ra,dec=dec, unit='deg', frame='icrs')\n",
    "\n",
    "\n",
    "\n",
    "fermi = Fermi(quaternion=position_interpolator.quaternion(0) , sc_pos=position_interpolator.sc_pos(0))\n",
    "\n",
    "fermi.add_ray(ray_coordinate=coord)\n",
    "\n",
    "fermi.plot_fermi(color_dets_different=True, \n",
    "                 plot_det_label=False,\n",
    "                 with_intersections=True, \n",
    "                 with_rays=True);"
   ]
  },
  {
   "cell_type": "markdown",
   "id": "0b8d4df9",
   "metadata": {},
   "source": [
    "# Generate Responses"
   ]
  },
  {
   "cell_type": "markdown",
   "id": "bd2ebef4",
   "metadata": {},
   "source": [
    "## Single Epoch Response"
   ]
  },
  {
   "cell_type": "code",
   "execution_count": 22,
   "id": "8d83f4ef",
   "metadata": {
    "ExecuteTime": {
     "end_time": "2021-08-27T06:45:38.216634Z",
     "start_time": "2021-08-27T06:45:37.624604Z"
    }
   },
   "outputs": [
    {
     "name": "stderr",
     "output_type": "stream",
     "text": [
      "\n",
      "WARNING RuntimeWarning: Minimum MC energy (5.0) is larger than minimum EBOUNDS energy (4.525152206420898)\n",
      "\n"
     ]
    }
   ],
   "source": [
    "with tarfile.open(\"output.tar\", \"w\") as tar:\n",
    "    for detector in gbm_detectors[:1]:\n",
    "\n",
    "        if using_daily_data:\n",
    "\n",
    "            drm_generator = gbm_drm_gen.DRMGen.from_128_bin_data(det_name= detector,\n",
    "                                                                 T0=T0,\n",
    "                                                                 time=0, # time relative to T0 or trigger time.\n",
    "                                                                 poshist = spacecraft_file,\n",
    "                                                                 mat_type = 2, # direct response + atmospheric scattering\n",
    "                                                                 cspecfile = gbm_data[detector]['cspec'])\n",
    "            \n",
    "            stub = f\"bn{year}{month}{day}\"\n",
    "            \n",
    "            \n",
    "\n",
    "        else:\n",
    "\n",
    "            drm_generator = gbm_drm_gen.DRMGen.from_128_bin_data(det_name= detector,\n",
    "                                                     time=0, # time relative to T0 or trigger time.\n",
    "                                                     trigdat = spacecraft_file,\n",
    "                                                     mat_type = 2, # direct response + atmospheric scattering\n",
    "                                                     cspecfile = gbm_data[detector]['cspec'])\n",
    "            \n",
    "            stub = f\"{grb_trigger_number}\"\n",
    "\n",
    "\n",
    "        \n",
    "        file_name = f\"{stub}_{detector}.rsp\"\n",
    "        \n",
    "        drm_generator.to_fits(ra=ra, dec=dec, filename=f\"{stub}\", overwrite=True)\n",
    "        \n",
    "        tar.add(file_name)\n",
    "\n",
    "# clean up\n",
    "_ =[x.unlink() for x in Path('.').glob('*.rsp')]"
   ]
  },
  {
   "cell_type": "code",
   "execution_count": 24,
   "id": "1ff4d04a",
   "metadata": {
    "ExecuteTime": {
     "end_time": "2021-08-27T06:45:51.184938Z",
     "start_time": "2021-08-27T06:45:50.875799Z"
    }
   },
   "outputs": [],
   "source": [
    "!open ."
   ]
  },
  {
   "cell_type": "markdown",
   "id": "58366e9a",
   "metadata": {},
   "source": [
    "## Time resolved response (RSP2)"
   ]
  },
  {
   "cell_type": "markdown",
   "id": "3246017d",
   "metadata": {},
   "source": [
    "### Define the times\n",
    "\n",
    "Now define the time range for the RSP2s to be valid. This assumes you specified a `T0` in MET if you are using daily data.\n",
    "Times are relative to T0 or the GRB trigger time. "
   ]
  },
  {
   "cell_type": "code",
   "execution_count": 27,
   "id": "3fda70c0",
   "metadata": {
    "ExecuteTime": {
     "end_time": "2021-08-27T06:47:25.163904Z",
     "start_time": "2021-08-27T06:47:25.161607Z"
    }
   },
   "outputs": [],
   "source": [
    "tstart = 0\n",
    "tstop = 10\n",
    "delta_time = 2 # the time spacing between intervals"
   ]
  },
  {
   "cell_type": "markdown",
   "id": "1322c330",
   "metadata": {},
   "source": [
    "### Produce the responses"
   ]
  },
  {
   "cell_type": "code",
   "execution_count": 28,
   "id": "0b54b6c1",
   "metadata": {
    "ExecuteTime": {
     "end_time": "2021-08-27T06:47:27.823790Z",
     "start_time": "2021-08-27T06:47:26.879277Z"
    }
   },
   "outputs": [
    {
     "name": "stderr",
     "output_type": "stream",
     "text": [
      "\n",
      "WARNING RuntimeWarning: Minimum MC energy (5.0) is larger than minimum EBOUNDS energy (4.525152206420898)\n",
      "\n",
      "\n",
      "WARNING RuntimeWarning: Minimum MC energy (5.0) is larger than minimum EBOUNDS energy (4.525152206420898)\n",
      "\n",
      "\n",
      "WARNING RuntimeWarning: Minimum MC energy (5.0) is larger than minimum EBOUNDS energy (4.525152206420898)\n",
      "\n",
      "\n",
      "WARNING RuntimeWarning: Minimum MC energy (5.0) is larger than minimum EBOUNDS energy (4.525152206420898)\n",
      "\n",
      "\n",
      "WARNING RuntimeWarning: Minimum MC energy (5.0) is larger than minimum EBOUNDS energy (4.525152206420898)\n",
      "\n"
     ]
    }
   ],
   "source": [
    "\n",
    "with tarfile.open(\"output.tar\", \"w\") as tar:\n",
    "    \n",
    "\n",
    "    for detector in gbm_detectors[:1]:\n",
    "\n",
    "        if using_daily_data:\n",
    "\n",
    "            drm_generator = gbm_drm_gen.DRMGen.from_128_bin_data(det_name= detector,\n",
    "                                                                 T0=T0,\n",
    "                                                                 time=0, # time relative to T0 or trigger time.\n",
    "                                                                 poshist = spacecraft_file,\n",
    "                                                                 mat_type = 2, # direct response + atmospheric scattering\n",
    "                                                                 cspecfile = gbm_data[detector]['cspec'])\n",
    "            \n",
    "            stub = f\"bn{year}{month}{day}\"\n",
    "\n",
    "        else:\n",
    "\n",
    "            drm_generator = gbm_drm_gen.DRMGen.from_128_bin_data(det_name= detector,\n",
    "                                                     time=0, # time relative to T0 or trigger time.\n",
    "                                                     trigdat = spacecraft_file,\n",
    "                                                     mat_type = 2, # direct response + atmospheric scattering\n",
    "                                                     cspecfile = gbm_data[detector]['cspec'])\n",
    "            \n",
    "            stub = f\"{grb_trigger_number}\"\n",
    "\n",
    "        file_name = f\"{stub}_{detector}.rsp2\"\n",
    "\n",
    "        gbm_drm_gen.create_rsp2(file_name,\n",
    "                                response_generator=drm_generator,\n",
    "                                ra=ra,\n",
    "                                dec=dec,\n",
    "                                tstart=tstart,\n",
    "                                tstop=tstop,\n",
    "                                delta_time=delta_time,\n",
    "                                overwrite=True\n",
    "               )\n",
    "\n",
    "        tar.add(file_name)\n",
    "    "
   ]
  },
  {
   "cell_type": "markdown",
   "id": "161e925b",
   "metadata": {},
   "source": [
    "# Download the files\n",
    "\n",
    "Now just simply download the files by\n"
   ]
  },
  {
   "cell_type": "code",
   "execution_count": null,
   "id": "f0d35078",
   "metadata": {},
   "outputs": [],
   "source": []
  }
 ],
 "metadata": {
  "kernelspec": {
   "display_name": "Python 3",
   "language": "python",
   "name": "python3"
  },
  "language_info": {
   "codemirror_mode": {
    "name": "ipython",
    "version": 3
   },
   "file_extension": ".py",
   "mimetype": "text/x-python",
   "name": "python",
   "nbconvert_exporter": "python",
   "pygments_lexer": "ipython3",
   "version": "3.9.6"
  }
 },
 "nbformat": 4,
 "nbformat_minor": 5
}
