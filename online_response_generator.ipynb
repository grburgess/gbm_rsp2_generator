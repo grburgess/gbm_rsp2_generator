{
 "cells": [
  {
   "cell_type": "markdown",
   "id": "5362bfcc",
   "metadata": {
    "heading_collapsed": true
   },
   "source": [
    "# ONLINE GBM RESPONSE GENERATOR\n",
    "\n",
    "This is a tool that allows your to generate RSP and RSP2 files for GBM triggered and daily data.\n",
    "It relies on two packages: [gbmgeometry]() and [gbm_drm_gen](). \n",
    "\n",
    "Following the instructions below, simply input your desired parameters and run the notebook. \n",
    "\n",
    "\n",
    "You responses will be available in the root of the notebook server as `output.tar` when you are finished.\n",
    "\n",
    "![alt text](https://raw.githubusercontent.com/grburgess/gbm_drm_gen/master/logo.png)"
   ]
  },
  {
   "cell_type": "code",
   "execution_count": null,
   "id": "18546ac2",
   "metadata": {
    "hidden": true
   },
   "outputs": [],
   "source": [
    "from pathlib import Path\n",
    "import tarfile\n",
    "\n",
    "\n",
    "import matplotlib.pyplot as plt\n",
    "%matplotlib notebook\n",
    "\n",
    "from threeML import download_GBM_trigger_data, download_GBM_daily_data\n",
    "\n",
    "import gbmgeometry\n",
    "from gbmgeometry.io.data_download import download_posthist, download_trigdat, get_official_location\n",
    "\n",
    "gbm_detectors = [f\"n{x}\" for x in range(10)]\n",
    "gbm_detectors.extend(['na','nb','b0','b1'])\n",
    "\n",
    "\n",
    "import gbm_drm_gen\n",
    "\n",
    "\n"
   ]
  },
  {
   "cell_type": "markdown",
   "id": "80418ab1",
   "metadata": {
    "heading_collapsed": true
   },
   "source": [
    "# Setup the variables\n",
    "\n",
    "Here you will decide if you use either **triggered** or **daily** data. Then you will enter the variables for the trigger or day.\n"
   ]
  },
  {
   "cell_type": "markdown",
   "id": "6b4a62b1",
   "metadata": {
    "heading_collapsed": true,
    "hidden": true
   },
   "source": [
    "## Type of data\n",
    "\n",
    "Run only one section as it sets up the rest of the notebook. \n"
   ]
  },
  {
   "cell_type": "markdown",
   "id": "1ac99878",
   "metadata": {
    "hidden": true
   },
   "source": [
    "### Trigger data\n",
    "\n",
    "This if for triggered data such as GRBs. You need to know the `burst number` and set it below. As an example, GRB080916C is currently entered.\n",
    "Once you have set the burst number, run both cells below. Some data will be downloaded which might take a few moments."
   ]
  },
  {
   "cell_type": "code",
   "execution_count": null,
   "id": "a219edb3",
   "metadata": {
    "hidden": true
   },
   "outputs": [],
   "source": [
    "grb_trigger_number = \"bn080916009\"\n",
    "\n",
    "# do not alter\n",
    "using_daily_data = False"
   ]
  },
  {
   "cell_type": "code",
   "execution_count": null,
   "id": "429bc4e6",
   "metadata": {
    "hidden": true
   },
   "outputs": [],
   "source": [
    "\n",
    "download_trigdat(grb_trigger_number)\n",
    "spacecraft_file = list(Path('.').glob(f'trigdat_{grb_trigger_number}_v*.h5'))[0]\n",
    "\n",
    "gbm_data = download_GBM_trigger_data(grb_trigger_number, cspec_only=True)\n",
    "\n",
    "for k,v in gbm_data.items():\n",
    "    \n",
    "    Path(v['rsp']).unlink()\n",
    "    \n",
    "    v.pop('rsp')"
   ]
  },
  {
   "cell_type": "markdown",
   "id": "af204f91",
   "metadata": {
    "hidden": true
   },
   "source": [
    "### Daily data\n",
    "\n",
    "This is for GBM daily data. This is useful for untriggered files. You will need to know the fermi MET of the data to set a `T0` for the responses. This makes the time relative to that `T0` rather than the large MET numbers native to the time-axis.\n",
    "\n",
    "Specify the year, month and day as shown below. Then run the two cells. Some data will be downloaded which might take a moment. \n"
   ]
  },
  {
   "cell_type": "code",
   "execution_count": null,
   "id": "84e6664e",
   "metadata": {
    "hidden": true
   },
   "outputs": [],
   "source": [
    "#year\n",
    "year = '20'\n",
    "month = '01'\n",
    "day = '16'\n",
    "\n",
    "# MET to zero the daily data\n",
    "# Use None if you do not want to zero\n",
    "T0 = 600835545.0\n",
    "\n",
    "using_daily_data = True"
   ]
  },
  {
   "cell_type": "code",
   "execution_count": null,
   "id": "619079b6",
   "metadata": {
    "hidden": true
   },
   "outputs": [],
   "source": [
    "download_posthist(year, month, day)\n",
    "spacecraft_file = f\"poshist_{year}{month}{day}.h5\"\n",
    "\n",
    "\n",
    "gbm_data = download_GBM_daily_data(year, month, day, cspec_only=True)"
   ]
  },
  {
   "cell_type": "markdown",
   "id": "b26a819f",
   "metadata": {
    "hidden": true
   },
   "source": [
    "## Sky location\n",
    "\n",
    "Now we will set the sky location (RA, Dec) that the responses will be created for. You can set the official location from the FSSC for GRBs or triggered data, or you can set a custom location.\n",
    "\n"
   ]
  },
  {
   "cell_type": "markdown",
   "id": "358ee22a",
   "metadata": {
    "heading_collapsed": true,
    "hidden": true
   },
   "source": [
    "### Official location\n",
    "\n",
    "This checks the FSSC for the cataloged location of the GRB or trigger.\n"
   ]
  },
  {
   "cell_type": "code",
   "execution_count": null,
   "id": "71f91e6e",
   "metadata": {
    "hidden": true
   },
   "outputs": [],
   "source": [
    "ra, dec, loc_err = get_official_location(grb_trigger_number)\n",
    "print(f\"rs:{ra}, dec:{dec}, err:{loc_err}\")"
   ]
  },
  {
   "cell_type": "markdown",
   "id": "f59e6f7e",
   "metadata": {
    "hidden": true
   },
   "source": [
    "### Custom location\n",
    "\n",
    "Here you can set a custom location in degrees.\n"
   ]
  },
  {
   "cell_type": "code",
   "execution_count": null,
   "id": "ba6a52dd",
   "metadata": {
    "hidden": true
   },
   "outputs": [],
   "source": [
    "ra = 10.\n",
    "dec = 10"
   ]
  },
  {
   "cell_type": "markdown",
   "id": "b65ada34",
   "metadata": {
    "heading_collapsed": true
   },
   "source": [
    "# Examine geometry\n",
    "\n",
    "We can now have a look at the location in Fermi spacecraft coordinates. You can use the position interpolator to examine many things about Fermi for the current time. Check out the documentation for more details.\n"
   ]
  },
  {
   "cell_type": "code",
   "execution_count": null,
   "id": "dd6adabd",
   "metadata": {
    "hidden": true
   },
   "outputs": [],
   "source": [
    "if using_daily_data:\n",
    "    \n",
    "    position_interpolator = gbmgeometry.PositionInterpolator.from_poshist_hdf5(spacecraft_file, T0=T0)\n",
    "\n",
    "else:\n",
    "    \n",
    "    position_interpolator = gbmgeometry.PositionInterpolator.from_trigdat_hdf5(spacecraft_file)\n"
   ]
  },
  {
   "cell_type": "markdown",
   "id": "9bfff5bf",
   "metadata": {
    "heading_collapsed": true,
    "hidden": true
   },
   "source": [
    "## Spacecraft blockage\n",
    "\n",
    "Here, you can plot a 3D model of Fermi and see which detectors are blocked by other parts of the spacecraft. Green lines indicate the rays coming from the input position, and red dots indicate blockage for that ray. You can use you mouse to move the spacecraft.\n"
   ]
  },
  {
   "cell_type": "code",
   "execution_count": null,
   "id": "8cdbb033",
   "metadata": {
    "hidden": true
   },
   "outputs": [],
   "source": [
    "from gbmgeometry.spacecraft.fermi import *\n",
    "from astropy.coordinates import SkyCoord\n",
    "\n",
    "coord = SkyCoord(ra=ra,dec=dec, unit='deg', frame='icrs')\n",
    "\n",
    "\n",
    "\n",
    "fermi = Fermi(quaternion=position_interpolator.quaternion(0) , sc_pos=position_interpolator.sc_pos(0))\n",
    "\n",
    "fermi.add_ray(ray_coordinate=coord)\n",
    "\n",
    "fermi.plot_fermi(color_dets_different=True, \n",
    "                 plot_det_label=False,\n",
    "                 with_intersections=True, \n",
    "                 with_rays=True);"
   ]
  },
  {
   "cell_type": "markdown",
   "id": "58535d7d",
   "metadata": {
    "heading_collapsed": true
   },
   "source": [
    "# Generate Responses\n",
    "\n",
    "Now you can generate the responses. You can to make a single response for a given time or create RSP2s which have multiple responses that account for the changing position of the Fermi spacecraft during the time range. \n"
   ]
  },
  {
   "cell_type": "markdown",
   "id": "0931e973",
   "metadata": {
    "heading_collapsed": true,
    "hidden": true
   },
   "source": [
    "## Single Epoch Response\n",
    "\n",
    "This generates responses for each detector on GBM at a given time relative to the T0 or trigger time specified above.\n",
    "\n"
   ]
  },
  {
   "cell_type": "code",
   "execution_count": null,
   "id": "aace0e99",
   "metadata": {
    "hidden": true
   },
   "outputs": [],
   "source": [
    "time = 0. # time relative to T0 or trigger time."
   ]
  },
  {
   "cell_type": "code",
   "execution_count": null,
   "id": "0a1f01b2",
   "metadata": {
    "hidden": true
   },
   "outputs": [],
   "source": [
    "with tarfile.open(\"output.tar\", \"w\") as tar:\n",
    "    for detector in gbm_detectors:\n",
    "\n",
    "        if using_daily_data:\n",
    "\n",
    "            drm_generator = gbm_drm_gen.DRMGen.from_128_bin_data(det_name= detector,\n",
    "                                                                 T0=T0,\n",
    "                                                                 time=time, \n",
    "                                                                 poshist = spacecraft_file,\n",
    "                                                                 mat_type = 2, # direct response + atmospheric scattering\n",
    "                                                                 cspecfile = gbm_data[detector]['cspec'])\n",
    "            \n",
    "            stub = f\"bn{year}{month}{day}\"\n",
    "            \n",
    "            \n",
    "\n",
    "        else:\n",
    "\n",
    "            drm_generator = gbm_drm_gen.DRMGen.from_128_bin_data(det_name= detector,\n",
    "                                                     time=time,\n",
    "                                                     trigdat = spacecraft_file,\n",
    "                                                     mat_type = 2, # direct response + atmospheric scattering\n",
    "                                                     cspecfile = gbm_data[detector]['cspec'])\n",
    "            \n",
    "            stub = f\"{grb_trigger_number}\"\n",
    "\n",
    "\n",
    "        \n",
    "        file_name = f\"{stub}_{detector}.rsp\"\n",
    "        \n",
    "        drm_generator.to_fits(ra=ra, dec=dec, filename=f\"{stub}\", overwrite=True)\n",
    "        \n",
    "        tar.add(file_name)\n",
    "\n",
    "# clean up\n",
    "_ =[x.unlink() for x in Path('.').glob('*.rsp')]"
   ]
  },
  {
   "cell_type": "markdown",
   "id": "8002e5d6",
   "metadata": {
    "heading_collapsed": true,
    "hidden": true
   },
   "source": [
    "## Time resolved response (RSP2)\n",
    "\n",
    "This generates RSP2 which contain multiple responses at a given temporal cadance over the time range you specify. When using 3ML to do spectral analysis, 3ML will weight these responses to try and account for the slew of the spacecraft with time.\n",
    "\n"
   ]
  },
  {
   "cell_type": "markdown",
   "id": "6c9f9254",
   "metadata": {
    "heading_collapsed": true,
    "hidden": true
   },
   "source": [
    "### Define the times\n",
    "\n",
    "Now define the time range for the RSP2s to be valid. This assumes you specified a `T0` in MET if you are using daily data.\n",
    "Times are relative to T0 or the GRB trigger time. "
   ]
  },
  {
   "cell_type": "code",
   "execution_count": null,
   "id": "83fac323",
   "metadata": {
    "hidden": true
   },
   "outputs": [],
   "source": [
    "tstart = 0\n",
    "tstop = 10\n",
    "delta_time = 2 # the time spacing between intervals"
   ]
  },
  {
   "cell_type": "markdown",
   "id": "fcc0e292",
   "metadata": {
    "heading_collapsed": true,
    "hidden": true
   },
   "source": [
    "### Produce the responses"
   ]
  },
  {
   "cell_type": "code",
   "execution_count": null,
   "id": "7884c6e7",
   "metadata": {
    "hidden": true
   },
   "outputs": [],
   "source": [
    "\n",
    "with tarfile.open(\"output.tar\", \"w\") as tar:\n",
    "    \n",
    "\n",
    "    for detector in gbm_detectors:\n",
    "\n",
    "        if using_daily_data:\n",
    "\n",
    "            drm_generator = gbm_drm_gen.DRMGen.from_128_bin_data(det_name= detector,\n",
    "                                                                 T0=T0,\n",
    "                                                                 time=0, # time relative to T0 or trigger time.\n",
    "                                                                 poshist = spacecraft_file,\n",
    "                                                                 mat_type = 2, # direct response + atmospheric scattering\n",
    "                                                                 cspecfile = gbm_data[detector]['cspec'])\n",
    "            \n",
    "            stub = f\"bn{year}{month}{day}\"\n",
    "\n",
    "        else:\n",
    "\n",
    "            drm_generator = gbm_drm_gen.DRMGen.from_128_bin_data(det_name= detector,\n",
    "                                                     time=0, # time relative to T0 or trigger time.\n",
    "                                                     trigdat = spacecraft_file,\n",
    "                                                     mat_type = 2, # direct response + atmospheric scattering\n",
    "                                                     cspecfile = gbm_data[detector]['cspec'])\n",
    "            \n",
    "            stub = f\"{grb_trigger_number}\"\n",
    "\n",
    "        file_name = f\"{stub}_{detector}.rsp2\"\n",
    "\n",
    "        gbm_drm_gen.create_rsp2(file_name,\n",
    "                                response_generator=drm_generator,\n",
    "                                ra=ra,\n",
    "                                dec=dec,\n",
    "                                tstart=tstart,\n",
    "                                tstop=tstop,\n",
    "                                delta_time=delta_time,\n",
    "                                overwrite=True\n",
    "               )\n",
    "\n",
    "        tar.add(file_name)\n",
    "_ =[x.unlink() for x in Path('.').glob('*.rsp2')]"
   ]
  },
  {
   "cell_type": "markdown",
   "id": "494a5e44",
   "metadata": {
    "heading_collapsed": true
   },
   "source": [
    "# Download the files\n",
    "\n",
    "Now just simply download the files by clicking over to the root or tree of the jupyter session and downloading the `output.tar` file.\n",
    "\n",
    "**Have a nice day.**\n"
   ]
  },
  {
   "cell_type": "code",
   "execution_count": null,
   "id": "f369e330",
   "metadata": {
    "hidden": true
   },
   "outputs": [],
   "source": []
  }
 ],
 "metadata": {
  "kernelspec": {
   "display_name": "Python 3",
   "language": "python",
   "name": "python3"
  },
  "language_info": {
   "codemirror_mode": {
    "name": "ipython",
    "version": 3
   },
   "file_extension": ".py",
   "mimetype": "text/x-python",
   "name": "python",
   "nbconvert_exporter": "python",
   "pygments_lexer": "ipython3",
   "version": "3.9.6"
  }
 },
 "nbformat": 4,
 "nbformat_minor": 5
}
